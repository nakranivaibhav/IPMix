{
 "cells": [
  {
   "cell_type": "code",
   "execution_count": null,
   "metadata": {},
   "outputs": [],
   "source": [
    "from utils import load_images\n",
    "import glob\n",
    "import cv2\n",
    "import numpy as np\n",
    "from PIL import Image\n",
    "from utils import add_patch, mult_patch, rand_ele_mix, rand_pix_mix\n",
    "from torchvision.transforms import v2\n",
    "import random\n",
    "import warnings\n",
    "warnings.simplefilter('ignore')"
   ]
  },
  {
   "cell_type": "markdown",
   "metadata": {},
   "source": [
    "### Load the Fractals Here"
   ]
  },
  {
   "cell_type": "code",
   "execution_count": 30,
   "metadata": {},
   "outputs": [],
   "source": [
    "fractal_tensor = load_images('fractals')"
   ]
  },
  {
   "cell_type": "markdown",
   "metadata": {},
   "source": [
    "### Load the training dataset\n",
    "\n",
    "- My file structure is name/class/image same as most of training data for image classification.\n",
    "- If the training folders are differently arranged the code below must be modified\n",
    "\n"
   ]
  },
  {
   "cell_type": "code",
   "execution_count": 31,
   "metadata": {},
   "outputs": [],
   "source": [
    "data = []\n",
    "for filename in glob.glob('Potatoes/*/*.png'):\n",
    "    if filename.endswith('.png'):\n",
    "        im = cv2.imread(filename)\n",
    "        if np.any(im):\n",
    "            im = cv2.cvtColor(im,cv2.COLOR_BGR2RGB)\n",
    "            im = cv2.resize(im,(256,256))\n",
    "            label = filename.split('/')[-2]\n",
    "            if label:\n",
    "                data.append([im,label])"
   ]
  },
  {
   "cell_type": "markdown",
   "metadata": {},
   "source": [
    "- Define any image level transforms here from v2 in torch image transforms"
   ]
  },
  {
   "cell_type": "code",
   "execution_count": 32,
   "metadata": {},
   "outputs": [],
   "source": [
    "img_level_transforms =[v2.RandomHorizontalFlip(p=1),v2.RandomVerticalFlip(p=1),\n",
    "                       v2.RandomRotation(degrees=100),v2.ColorJitter(),v2.Grayscale(num_output_channels=3),\n",
    "                      v2.GaussianBlur(kernel_size=53),v2.ElasticTransform(alpha=300.,sigma=7.),\n",
    "                      ]\n",
    "p_level_transforms = [add_patch,mult_patch,rand_pix_mix,rand_ele_mix]"
   ]
  },
  {
   "cell_type": "code",
   "execution_count": 33,
   "metadata": {},
   "outputs": [],
   "source": [
    "def ipmix(img,frac=fractal_tensor,aug_method=[0,1],p_size=[4, 8, 16, 32, 64, 128, 256],\n",
    "    p_level_transforms=p_level_transforms,img_level_transforms=img_level_transforms,\n",
    "    k = 3, t= 3):\n",
    "    img = img.copy()\n",
    "    og_img = img.copy()\n",
    "    frac = random.choice(fractal_tensor)\n",
    "    mixin_w = np.random.dirichlet(np.ones(k) * 1, size=1)\n",
    "    m = np.round(np.random.beta(1,1),1)\n",
    "    x_mix = np.zeros_like(img)\n",
    "    for i in range(k):\n",
    "        img_copy = img.copy()\n",
    "        meth = random.choice(aug_method)\n",
    "        t_lst = [i for i in range(1,t+1)]\n",
    "        if meth == 1:\n",
    "            for j in range(random.choice(t_lst)):\n",
    "                patch_sz = random.choice(p_size)\n",
    "                p_func = random.choice(p_level_transforms)\n",
    "                if random.random() > 0.5:\n",
    "                    x_mixed = p_func(img_copy,frac,patch_sz)\n",
    "                else:\n",
    "                    i_func = random.choice(img_level_transforms)\n",
    "                    pipe = v2.Compose([v2.ToTensor(),i_func])\n",
    "                    aug_img = pipe(img_copy)\n",
    "                    aug_img = aug_img * 255\n",
    "                    x_mixed = aug_img.numpy()\n",
    "                    x_mixed = x_mixed.transpose(1,2,0)\n",
    "        elif meth == 0:\n",
    "            for j in range(random.choice(t_lst)):\n",
    "                i_func = random.choice(img_level_transforms)\n",
    "                pipe = v2.Compose([v2.ToTensor(),i_func])\n",
    "                aug_img = pipe(img_copy)\n",
    "                aug_img = aug_img * 255 \n",
    "                x_mixed = aug_img.numpy()\n",
    "                x_mixed = x_mixed.transpose(1,2,0)\n",
    "\n",
    "        x_mix = x_mix.astype(np.float64)\n",
    "        x_mix += mixin_w[0][i] * x_mixed\n",
    "    og_img = og_img.astype(np.float64)\n",
    "    x_ipmix = m*(x_mix) + (1-m)*og_img\n",
    "    x_ipmix = x_ipmix.astype(np.uint8)\n",
    "    return x_ipmix"
   ]
  },
  {
   "cell_type": "code",
   "execution_count": null,
   "metadata": {},
   "outputs": [],
   "source": [
    "from joblib import Parallel, delayed\n",
    "\n",
    "aug_data = []\n",
    "def process_image(data_item):\n",
    "    image, label = data_item\n",
    "    aug_im = ipmix(image)\n",
    "    return [aug_im, label]\n",
    "\n",
    "if __name__ == \"__main__\":\n",
    "    n_jobs = -1\n",
    "    aug_data = Parallel(n_jobs=n_jobs)(delayed(process_image)(data_item) for data_item in data)"
   ]
  }
 ],
 "metadata": {
  "kernelspec": {
   "display_name": "ml",
   "language": "python",
   "name": "python3"
  },
  "language_info": {
   "codemirror_mode": {
    "name": "ipython",
    "version": 3
   },
   "file_extension": ".py",
   "mimetype": "text/x-python",
   "name": "python",
   "nbconvert_exporter": "python",
   "pygments_lexer": "ipython3",
   "version": "3.11.5"
  },
  "orig_nbformat": 4
 },
 "nbformat": 4,
 "nbformat_minor": 2
}
